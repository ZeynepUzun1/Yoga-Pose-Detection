{
 "cells": [
  {
   "cell_type": "code",
   "execution_count": null,
   "id": "1fe263ab",
   "metadata": {},
   "outputs": [],
   "source": [
    "import numpy as np \n",
    "import pandas as pd\n",
    "import matplotlib.pyplot as plt\n",
    "import seaborn as sns\n",
    "import tensorflow as tf\n",
    "import keras\n",
    "from PIL import Image\n",
    "from keras.regularizers import l2\n",
    "from keras.models import Sequential\n",
    "from keras.layers import Conv2D, MaxPooling2D, Flatten,Dense,Dropout, BatchNormalization\n",
    "from tensorflow.keras.preprocessing.image import ImageDataGenerator\n",
    "from keras.layers import Dense, Flatten\n",
    "from tensorflow.keras.optimizers import Adam"
   ]
  },
  {
   "cell_type": "code",
   "execution_count": null,
   "id": "5037ff66",
   "metadata": {},
   "outputs": [],
   "source": [
    "train_dir = \"TRAIN\"\n",
    "test_dir = \"TEST\"\n",
    "\n",
    "datagen_train = ImageDataGenerator(\n",
    "    validation_split = 0.2,\n",
    "    width_shift_range=0.1,\n",
    "    rotation_range=20,\n",
    "    rescale = 1./255,\n",
    "    horizontal_flip=True,\n",
    "    zoom_range = 0.1\n",
    ")\n",
    "\n",
    "datagen_test = ImageDataGenerator(\n",
    "    validation_split = 0.2,\n",
    "    rescale = 1./255\n",
    ")\n",
    "\n",
    "train_gen = datagen_train.flow_from_directory(\n",
    "    directory = train_dir,\n",
    "    target_size = (224, 224),\n",
    "    batch_size = 16,\n",
    "    class_mode = \"categorical\",\n",
    "    subset = \"training\"\n",
    ")\n",
    "\n",
    "test_gen = datagen_test.flow_from_directory(\n",
    "    directory = test_dir,\n",
    "    target_size = (224, 224),\n",
    "    batch_size = 16,\n",
    "    class_mode = \"categorical\",\n",
    ")\n",
    "\n",
    "model = Sequential([\n",
    "    Conv2D(64, (3, 3), activation=\"relu\", input_shape=(224, 224, 3), padding='same', kernel_regularizer=l2(0.001)),\n",
    "    BatchNormalization(),\n",
    "    MaxPooling2D(2, 2),\n",
    "    Conv2D(96, (3, 3), activation=\"relu\", padding='same'),\n",
    "    BatchNormalization(),\n",
    "    MaxPooling2D(2, 2),\n",
    "    Conv2D(128, (3, 3), activation=\"relu\", padding='same'),\n",
    "    BatchNormalization(),\n",
    "    MaxPooling2D(2, 2),\n",
    "    Flatten(),\n",
    "    Dropout(0.5),\n",
    "    Dense(256, activation=\"relu\"),\n",
    "    Dropout(0.4),\n",
    "    Dense(train_gen.num_classes, activation=\"softmax\")\n",
    "])\n",
    "\n"
   ]
  },
  {
   "cell_type": "code",
   "execution_count": null,
   "id": "721e5e72",
   "metadata": {},
   "outputs": [],
   "source": [
    "optimizer = Adam()\n",
    "model.compile(loss='categorical_crossentropy',\n",
    "              optimizer = optimizer,\n",
    "              metrics=['accuracy'])\n",
    "epochs = 40  \n",
    "batch_size = 16\n",
    "\n",
    "model.summary()\n",
    "\n",
    "from PIL import ImageFile\n",
    "ImageFile.LOAD_TRUNCATED_IMAGES = True"
   ]
  },
  {
   "cell_type": "code",
   "execution_count": null,
   "id": "b644f4d7",
   "metadata": {},
   "outputs": [],
   "source": [
    "history = model.fit(train_gen, epochs = epochs,validation_data = test_gen)"
   ]
  },
  {
   "cell_type": "code",
   "execution_count": null,
   "id": "46ab5360",
   "metadata": {},
   "outputs": [],
   "source": [
    "fig , ax = plt.subplots(1,2)\n",
    "train_acc = history.history['accuracy']\n",
    "train_loss = history.history['loss']\n",
    "fig.set_size_inches(12,4)\n",
    "\n",
    "ax[0].plot(history.history['accuracy'])\n",
    "ax[0].plot(history.history['val_accuracy'])\n",
    "ax[0].set_title('Training Accuracy vs Validation Accuracy')\n",
    "ax[0].set_ylabel('Accuracy')\n",
    "ax[0].set_xlabel('Epoch')\n",
    "ax[0].legend(['Train', 'Validation'], loc='upper left')\n",
    "\n",
    "ax[1].plot(history.history['loss'])\n",
    "ax[1].plot(history.history['val_loss'])\n",
    "ax[1].set_title('Training Loss vs Validation Loss')\n",
    "ax[1].set_ylabel('Loss')\n",
    "ax[1].set_xlabel('Epoch')\n",
    "ax[1].legend(['Train', 'Validation'], loc='upper left')\n",
    "\n",
    "plt.show()"
   ]
  },
  {
   "cell_type": "code",
   "execution_count": null,
   "id": "8908c24b",
   "metadata": {},
   "outputs": [],
   "source": [
    "train_loss, train_acc = model.evaluate(train_gen)\n",
    "test_loss, test_acc   = model.evaluate(test_gen)\n",
    "\n",
    "print(\"final train accuracy = {:.2f} , validation accuracy = {:.2f}\".format(train_acc*100, test_acc*100))"
   ]
  }
 ],
 "metadata": {
  "language_info": {
   "name": "python"
  }
 },
 "nbformat": 4,
 "nbformat_minor": 5
}
